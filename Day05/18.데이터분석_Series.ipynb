{
 "cells": [
  {
   "cell_type": "markdown",
   "metadata": {},
   "source": [
    "### Series\n",
    "- 데이터가 순차적으로 나열된 1차원 배열의 형태"
   ]
  },
  {
   "cell_type": "markdown",
   "metadata": {},
   "source": [
    "### Dictionary -> Series"
   ]
  },
  {
   "cell_type": "code",
   "execution_count": 1,
   "metadata": {},
   "outputs": [],
   "source": [
    "import pandas as pd"
   ]
  },
  {
   "cell_type": "code",
   "execution_count": 2,
   "metadata": {},
   "outputs": [
    {
     "data": {
      "text/plain": [
       "{'a': 1, 'b': 2, 'c': 3}"
      ]
     },
     "execution_count": 2,
     "metadata": {},
     "output_type": "execute_result"
    }
   ],
   "source": [
    "# Dictionary 만들기\n",
    "dict_data = {\n",
    "  'a' : 1,\n",
    "  'b' : 2,\n",
    "  'c' : 3\n",
    "}\n",
    "\n",
    "dict_data"
   ]
  },
  {
   "cell_type": "code",
   "execution_count": 3,
   "metadata": {},
   "outputs": [
    {
     "data": {
      "text/plain": [
       "a    1\n",
       "b    2\n",
       "c    3\n",
       "dtype: int64"
      ]
     },
     "execution_count": 3,
     "metadata": {},
     "output_type": "execute_result"
    }
   ],
   "source": [
    "# Series로 변환\n",
    "sr = pd.Series(dict_data)\n",
    "sr"
   ]
  },
  {
   "cell_type": "markdown",
   "metadata": {},
   "source": [
    "#### List -> Series"
   ]
  },
  {
   "cell_type": "code",
   "execution_count": 4,
   "metadata": {},
   "outputs": [
    {
     "data": {
      "text/plain": [
       "['2024-12-31', 3.14, 'abc', 100, True]"
      ]
     },
     "execution_count": 4,
     "metadata": {},
     "output_type": "execute_result"
    }
   ],
   "source": [
    "list_data = [\n",
    "  '2024-12-31',\n",
    "  3.14,\n",
    "  'abc',\n",
    "  100,\n",
    "  True\n",
    "]\n",
    "\n",
    "list_data"
   ]
  },
  {
   "cell_type": "code",
   "execution_count": 5,
   "metadata": {},
   "outputs": [
    {
     "data": {
      "text/plain": [
       "0    2024-12-31\n",
       "1          3.14\n",
       "2           abc\n",
       "3           100\n",
       "4          True\n",
       "dtype: object"
      ]
     },
     "execution_count": 5,
     "metadata": {},
     "output_type": "execute_result"
    }
   ],
   "source": [
    "sr = pd.Series(list_data)\n",
    "sr"
   ]
  },
  {
   "cell_type": "markdown",
   "metadata": {},
   "source": [
    "#### Tuple -> Series"
   ]
  },
  {
   "cell_type": "code",
   "execution_count": 6,
   "metadata": {},
   "outputs": [
    {
     "data": {
      "text/plain": [
       "('유비', '2024-12-31', '남', False)"
      ]
     },
     "execution_count": 6,
     "metadata": {},
     "output_type": "execute_result"
    }
   ],
   "source": [
    "tuple_data = (\n",
    "  '유비',\n",
    "  '2024-12-31',\n",
    "  '남',\n",
    "  False\n",
    ")\n",
    "\n",
    "tuple_data"
   ]
  },
  {
   "cell_type": "code",
   "execution_count": 8,
   "metadata": {},
   "outputs": [
    {
     "data": {
      "text/plain": [
       "이름              유비\n",
       "생년월일    2024-12-31\n",
       "성별               남\n",
       "학생여부         False\n",
       "dtype: object"
      ]
     },
     "execution_count": 8,
     "metadata": {},
     "output_type": "execute_result"
    }
   ],
   "source": [
    "sr = pd.Series(tuple_data, index=['이름', '생년월일', '성별', '학생여부'])\n",
    "sr"
   ]
  },
  {
   "cell_type": "markdown",
   "metadata": {},
   "source": [
    "#### Series에서 Data 선택하기"
   ]
  },
  {
   "cell_type": "code",
   "execution_count": 10,
   "metadata": {},
   "outputs": [
    {
     "data": {
      "text/plain": [
       "'유비'"
      ]
     },
     "execution_count": 10,
     "metadata": {},
     "output_type": "execute_result"
    }
   ],
   "source": [
    "# 유비만 추출하기\n",
    "sr['이름']"
   ]
  },
  {
   "cell_type": "code",
   "execution_count": 12,
   "metadata": {},
   "outputs": [
    {
     "name": "stderr",
     "output_type": "stream",
     "text": [
      "C:\\Users\\KDT\\AppData\\Local\\Temp\\ipykernel_12984\\3717362250.py:1: FutureWarning: Series.__getitem__ treating keys as positions is deprecated. In a future version, integer keys will always be treated as labels (consistent with DataFrame behavior). To access a value by position, use `ser.iloc[pos]`\n",
      "  sr[0]\n"
     ]
    },
    {
     "data": {
      "text/plain": [
       "'유비'"
      ]
     },
     "execution_count": 12,
     "metadata": {},
     "output_type": "execute_result"
    }
   ],
   "source": [
    "sr[0]"
   ]
  },
  {
   "cell_type": "code",
   "execution_count": 14,
   "metadata": {},
   "outputs": [
    {
     "data": {
      "text/plain": [
       "생년월일    2024-12-31\n",
       "성별               남\n",
       "dtype: object"
      ]
     },
     "execution_count": 14,
     "metadata": {},
     "output_type": "execute_result"
    }
   ],
   "source": [
    "# 생년월일, 성별 \n",
    "sr[['생년월일','성별']]"
   ]
  },
  {
   "cell_type": "code",
   "execution_count": 16,
   "metadata": {},
   "outputs": [
    {
     "name": "stderr",
     "output_type": "stream",
     "text": [
      "C:\\Users\\KDT\\AppData\\Local\\Temp\\ipykernel_12984\\3275404516.py:1: FutureWarning: Series.__getitem__ treating keys as positions is deprecated. In a future version, integer keys will always be treated as labels (consistent with DataFrame behavior). To access a value by position, use `ser.iloc[pos]`\n",
      "  sr[[1,2]]\n"
     ]
    },
    {
     "data": {
      "text/plain": [
       "생년월일    2024-12-31\n",
       "성별               남\n",
       "dtype: object"
      ]
     },
     "execution_count": 16,
     "metadata": {},
     "output_type": "execute_result"
    }
   ],
   "source": [
    "sr[[1,2]]"
   ]
  },
  {
   "cell_type": "code",
   "execution_count": 19,
   "metadata": {},
   "outputs": [
    {
     "data": {
      "text/plain": [
       "생년월일    2024-12-31\n",
       "성별               남\n",
       "dtype: object"
      ]
     },
     "execution_count": 19,
     "metadata": {},
     "output_type": "execute_result"
    }
   ],
   "source": [
    "sr[1:3]"
   ]
  },
  {
   "cell_type": "code",
   "execution_count": 21,
   "metadata": {},
   "outputs": [
    {
     "data": {
      "text/plain": [
       "이름              유비\n",
       "생년월일    2024-12-31\n",
       "성별               남\n",
       "dtype: object"
      ]
     },
     "execution_count": 21,
     "metadata": {},
     "output_type": "execute_result"
    }
   ],
   "source": [
    "# 이름, 생년월일, 성별 \n",
    "\n",
    "sr['이름':'성별']"
   ]
  },
  {
   "cell_type": "code",
   "execution_count": 23,
   "metadata": {},
   "outputs": [
    {
     "data": {
      "text/plain": [
       "이름              유비\n",
       "생년월일    2024-12-31\n",
       "성별               남\n",
       "학생여부         False\n",
       "dtype: object"
      ]
     },
     "execution_count": 23,
     "metadata": {},
     "output_type": "execute_result"
    }
   ],
   "source": [
    "sr[0:4]"
   ]
  },
  {
   "cell_type": "markdown",
   "metadata": {},
   "source": [
    "### Series의 연산"
   ]
  },
  {
   "cell_type": "code",
   "execution_count": 24,
   "metadata": {},
   "outputs": [
    {
     "data": {
      "text/plain": [
       "국어    100\n",
       "영어     80\n",
       "수학     90\n",
       "dtype: int64"
      ]
     },
     "execution_count": 24,
     "metadata": {},
     "output_type": "execute_result"
    }
   ],
   "source": [
    "student = pd.Series(\n",
    "  {\n",
    "    '국어' : 100,\n",
    "    '영어' : 80,\n",
    "    '수학' : 90\n",
    "  }\n",
    ")\n",
    "student"
   ]
  },
  {
   "cell_type": "code",
   "execution_count": 26,
   "metadata": {},
   "outputs": [
    {
     "data": {
      "text/plain": [
       "국어    0.50\n",
       "영어    0.40\n",
       "수학    0.45\n",
       "dtype: float64"
      ]
     },
     "execution_count": 26,
     "metadata": {},
     "output_type": "execute_result"
    }
   ],
   "source": [
    "# 모든 과목의 점수를 200으로 나누자\n",
    "student / 200"
   ]
  },
  {
   "cell_type": "code",
   "execution_count": 27,
   "metadata": {},
   "outputs": [
    {
     "data": {
      "text/plain": [
       "국어    100\n",
       "영어     80\n",
       "수학     90\n",
       "dtype: int64"
      ]
     },
     "execution_count": 27,
     "metadata": {},
     "output_type": "execute_result"
    }
   ],
   "source": [
    "student1 = pd.Series(\n",
    "  {\n",
    "    '국어' : 100,\n",
    "    '영어' : 80,\n",
    "    '수학' : 90\n",
    "  }\n",
    ")\n",
    "student1"
   ]
  },
  {
   "cell_type": "code",
   "execution_count": 28,
   "metadata": {},
   "outputs": [
    {
     "data": {
      "text/plain": [
       "수학    80\n",
       "국어    90\n",
       "영어    80\n",
       "dtype: int64"
      ]
     },
     "execution_count": 28,
     "metadata": {},
     "output_type": "execute_result"
    }
   ],
   "source": [
    "student2 = pd.Series(\n",
    "  {\n",
    "    '수학' : 80,\n",
    "    '국어' : 90,\n",
    "    '영어' : 80\n",
    "  }\n",
    ")\n",
    "student2"
   ]
  },
  {
   "cell_type": "code",
   "execution_count": 30,
   "metadata": {},
   "outputs": [],
   "source": [
    "# 덧셈\n",
    "addition = student1 + student2"
   ]
  },
  {
   "cell_type": "markdown",
   "metadata": {},
   "source": [
    "> index에 맞추어져서 연산이 이루어 진다."
   ]
  },
  {
   "cell_type": "code",
   "execution_count": 36,
   "metadata": {},
   "outputs": [],
   "source": [
    "# 뺄셈\n",
    "subtraction = student1 - student2"
   ]
  },
  {
   "cell_type": "code",
   "execution_count": 37,
   "metadata": {},
   "outputs": [],
   "source": [
    "# 곱셈\n",
    "multiplication = student1 * student2"
   ]
  },
  {
   "cell_type": "code",
   "execution_count": 38,
   "metadata": {},
   "outputs": [],
   "source": [
    "# 나눗셈\n",
    "division = student1 / student2"
   ]
  },
  {
   "cell_type": "code",
   "execution_count": 42,
   "metadata": {},
   "outputs": [
    {
     "data": {
      "text/plain": [
       "국어    1.111111\n",
       "수학    1.125000\n",
       "영어    1.000000\n",
       "dtype: float64"
      ]
     },
     "execution_count": 42,
     "metadata": {},
     "output_type": "execute_result"
    }
   ],
   "source": [
    "division"
   ]
  },
  {
   "cell_type": "code",
   "execution_count": 44,
   "metadata": {},
   "outputs": [
    {
     "data": {
      "text/html": [
       "<div>\n",
       "<style scoped>\n",
       "    .dataframe tbody tr th:only-of-type {\n",
       "        vertical-align: middle;\n",
       "    }\n",
       "\n",
       "    .dataframe tbody tr th {\n",
       "        vertical-align: top;\n",
       "    }\n",
       "\n",
       "    .dataframe thead th {\n",
       "        text-align: right;\n",
       "    }\n",
       "</style>\n",
       "<table border=\"1\" class=\"dataframe\">\n",
       "  <thead>\n",
       "    <tr style=\"text-align: right;\">\n",
       "      <th></th>\n",
       "      <th>국어</th>\n",
       "      <th>수학</th>\n",
       "      <th>영어</th>\n",
       "    </tr>\n",
       "  </thead>\n",
       "  <tbody>\n",
       "    <tr>\n",
       "      <th>덧셈</th>\n",
       "      <td>190.000000</td>\n",
       "      <td>170.000</td>\n",
       "      <td>160.0</td>\n",
       "    </tr>\n",
       "    <tr>\n",
       "      <th>뺄셈</th>\n",
       "      <td>10.000000</td>\n",
       "      <td>10.000</td>\n",
       "      <td>0.0</td>\n",
       "    </tr>\n",
       "    <tr>\n",
       "      <th>곱셈</th>\n",
       "      <td>9000.000000</td>\n",
       "      <td>7200.000</td>\n",
       "      <td>6400.0</td>\n",
       "    </tr>\n",
       "    <tr>\n",
       "      <th>나눗셈</th>\n",
       "      <td>1.111111</td>\n",
       "      <td>1.125</td>\n",
       "      <td>1.0</td>\n",
       "    </tr>\n",
       "  </tbody>\n",
       "</table>\n",
       "</div>"
      ],
      "text/plain": [
       "              국어        수학      영어\n",
       "덧셈    190.000000   170.000   160.0\n",
       "뺄셈     10.000000    10.000     0.0\n",
       "곱셈   9000.000000  7200.000  6400.0\n",
       "나눗셈     1.111111     1.125     1.0"
      ]
     },
     "execution_count": 44,
     "metadata": {},
     "output_type": "execute_result"
    }
   ],
   "source": [
    "# 사칙연산 결과를 데이터프레임으로 만들기\n",
    "pd.DataFrame(\n",
    "  [\n",
    "    addition, subtraction, multiplication, division\n",
    "  ],\n",
    "  index=['덧셈',\"뺄셈\",\"곱셈\",'나눗셈']\n",
    ")"
   ]
  },
  {
   "cell_type": "markdown",
   "metadata": {},
   "source": [
    "----\n",
    "### NaN(Not a Number)값이 있는 연산"
   ]
  },
  {
   "cell_type": "code",
   "execution_count": 45,
   "metadata": {},
   "outputs": [],
   "source": [
    "import numpy as np"
   ]
  },
  {
   "cell_type": "code",
   "execution_count": 46,
   "metadata": {},
   "outputs": [
    {
     "data": {
      "text/plain": [
       "국어     NaN\n",
       "영어    80.0\n",
       "수학    90.0\n",
       "dtype: float64"
      ]
     },
     "execution_count": 46,
     "metadata": {},
     "output_type": "execute_result"
    }
   ],
   "source": [
    "student1 = pd.Series(\n",
    "  {\n",
    "    '국어' : np.nan,\n",
    "    '영어' : 80,\n",
    "    '수학' : 90\n",
    "  }\n",
    ")\n",
    "\n",
    "student1"
   ]
  },
  {
   "cell_type": "code",
   "execution_count": 47,
   "metadata": {},
   "outputs": [
    {
     "data": {
      "text/plain": [
       "수학    80\n",
       "국어    90\n",
       "dtype: int64"
      ]
     },
     "execution_count": 47,
     "metadata": {},
     "output_type": "execute_result"
    }
   ],
   "source": [
    "student2 = pd.Series(\n",
    "  {\n",
    "    '수학' : 80,\n",
    "    '국어' : 90\n",
    "  }\n",
    ")\n",
    "\n",
    "student2"
   ]
  },
  {
   "cell_type": "code",
   "execution_count": 48,
   "metadata": {},
   "outputs": [
    {
     "data": {
      "text/plain": [
       "국어      NaN\n",
       "수학    170.0\n",
       "영어      NaN\n",
       "dtype: float64"
      ]
     },
     "execution_count": 48,
     "metadata": {},
     "output_type": "execute_result"
    }
   ],
   "source": [
    "# 덧셈\n",
    "addition = student1 + student2\n",
    "addition"
   ]
  },
  {
   "cell_type": "code",
   "execution_count": 49,
   "metadata": {},
   "outputs": [
    {
     "data": {
      "text/plain": [
       "국어      NaN\n",
       "수학    170.0\n",
       "영어      NaN\n",
       "dtype: float64"
      ]
     },
     "execution_count": 49,
     "metadata": {},
     "output_type": "execute_result"
    }
   ],
   "source": [
    "addition = student1.add(student2)\n",
    "addition"
   ]
  },
  {
   "cell_type": "markdown",
   "metadata": {},
   "source": [
    "> 덧셈에서 각 데이터 사에에 공통 인덱스가 없거나 NaN이 포함된 경우 연산결과는 NaN이다."
   ]
  },
  {
   "cell_type": "code",
   "execution_count": 52,
   "metadata": {},
   "outputs": [],
   "source": [
    "addition = student1 + student2\n",
    "subtraction = student1 - student2\n",
    "multiplication = student1 * student2\n",
    "division = student1 / student2"
   ]
  },
  {
   "cell_type": "code",
   "execution_count": 53,
   "metadata": {},
   "outputs": [],
   "source": [
    "addition = student1.add(student2)\n",
    "subtraction = student1.sub(student2)\n",
    "multiplication = student1.mul(student2)\n",
    "division = student1.div(student2)"
   ]
  },
  {
   "cell_type": "code",
   "execution_count": 54,
   "metadata": {},
   "outputs": [
    {
     "data": {
      "text/html": [
       "<div>\n",
       "<style scoped>\n",
       "    .dataframe tbody tr th:only-of-type {\n",
       "        vertical-align: middle;\n",
       "    }\n",
       "\n",
       "    .dataframe tbody tr th {\n",
       "        vertical-align: top;\n",
       "    }\n",
       "\n",
       "    .dataframe thead th {\n",
       "        text-align: right;\n",
       "    }\n",
       "</style>\n",
       "<table border=\"1\" class=\"dataframe\">\n",
       "  <thead>\n",
       "    <tr style=\"text-align: right;\">\n",
       "      <th></th>\n",
       "      <th>국어</th>\n",
       "      <th>수학</th>\n",
       "      <th>영어</th>\n",
       "    </tr>\n",
       "  </thead>\n",
       "  <tbody>\n",
       "    <tr>\n",
       "      <th>덧셈</th>\n",
       "      <td>NaN</td>\n",
       "      <td>170.000</td>\n",
       "      <td>NaN</td>\n",
       "    </tr>\n",
       "    <tr>\n",
       "      <th>뺄셈</th>\n",
       "      <td>NaN</td>\n",
       "      <td>10.000</td>\n",
       "      <td>NaN</td>\n",
       "    </tr>\n",
       "    <tr>\n",
       "      <th>곱셈</th>\n",
       "      <td>NaN</td>\n",
       "      <td>7200.000</td>\n",
       "      <td>NaN</td>\n",
       "    </tr>\n",
       "    <tr>\n",
       "      <th>나눗셈</th>\n",
       "      <td>NaN</td>\n",
       "      <td>1.125</td>\n",
       "      <td>NaN</td>\n",
       "    </tr>\n",
       "  </tbody>\n",
       "</table>\n",
       "</div>"
      ],
      "text/plain": [
       "     국어        수학  영어\n",
       "덧셈  NaN   170.000 NaN\n",
       "뺄셈  NaN    10.000 NaN\n",
       "곱셈  NaN  7200.000 NaN\n",
       "나눗셈 NaN     1.125 NaN"
      ]
     },
     "execution_count": 54,
     "metadata": {},
     "output_type": "execute_result"
    }
   ],
   "source": [
    "# 사칙연산 결과를 데이터프레임으로 만들기\n",
    "pd.DataFrame(\n",
    "  [\n",
    "    addition, subtraction, multiplication, division\n",
    "  ],\n",
    "  index=['덧셈',\"뺄셈\",\"곱셈\",'나눗셈']\n",
    ")"
   ]
  },
  {
   "cell_type": "code",
   "execution_count": 55,
   "metadata": {},
   "outputs": [],
   "source": [
    "# NaN 대신 숫자 0으로 대체 \n",
    "\n",
    "addition = student1.add(student2, fill_value=0)\n",
    "subtraction = student1.sub(student2, fill_value=0)\n",
    "multiplication = student1.mul(student2, fill_value=0)\n",
    "division = student1.div(student2, fill_value=0)"
   ]
  },
  {
   "cell_type": "code",
   "execution_count": 56,
   "metadata": {},
   "outputs": [
    {
     "data": {
      "text/html": [
       "<div>\n",
       "<style scoped>\n",
       "    .dataframe tbody tr th:only-of-type {\n",
       "        vertical-align: middle;\n",
       "    }\n",
       "\n",
       "    .dataframe tbody tr th {\n",
       "        vertical-align: top;\n",
       "    }\n",
       "\n",
       "    .dataframe thead th {\n",
       "        text-align: right;\n",
       "    }\n",
       "</style>\n",
       "<table border=\"1\" class=\"dataframe\">\n",
       "  <thead>\n",
       "    <tr style=\"text-align: right;\">\n",
       "      <th></th>\n",
       "      <th>국어</th>\n",
       "      <th>수학</th>\n",
       "      <th>영어</th>\n",
       "    </tr>\n",
       "  </thead>\n",
       "  <tbody>\n",
       "    <tr>\n",
       "      <th>덧셈</th>\n",
       "      <td>90.0</td>\n",
       "      <td>170.000</td>\n",
       "      <td>80.0</td>\n",
       "    </tr>\n",
       "    <tr>\n",
       "      <th>뺄셈</th>\n",
       "      <td>-90.0</td>\n",
       "      <td>10.000</td>\n",
       "      <td>80.0</td>\n",
       "    </tr>\n",
       "    <tr>\n",
       "      <th>곱셈</th>\n",
       "      <td>0.0</td>\n",
       "      <td>7200.000</td>\n",
       "      <td>0.0</td>\n",
       "    </tr>\n",
       "    <tr>\n",
       "      <th>나눗셈</th>\n",
       "      <td>0.0</td>\n",
       "      <td>1.125</td>\n",
       "      <td>inf</td>\n",
       "    </tr>\n",
       "  </tbody>\n",
       "</table>\n",
       "</div>"
      ],
      "text/plain": [
       "       국어        수학    영어\n",
       "덧셈   90.0   170.000  80.0\n",
       "뺄셈  -90.0    10.000  80.0\n",
       "곱셈    0.0  7200.000   0.0\n",
       "나눗셈   0.0     1.125   inf"
      ]
     },
     "execution_count": 56,
     "metadata": {},
     "output_type": "execute_result"
    }
   ],
   "source": [
    "# 사칙연산 결과를 데이터프레임으로 만들기\n",
    "pd.DataFrame(\n",
    "  [\n",
    "    addition, subtraction, multiplication, division\n",
    "  ],\n",
    "  index=['덧셈',\"뺄셈\",\"곱셈\",'나눗셈']\n",
    ")"
   ]
  },
  {
   "cell_type": "markdown",
   "metadata": {},
   "source": [
    "> inf(infinity:무한대) : 영어의 나눗셈인 경우 80을 0으로 나누어서 발생한다. "
   ]
  },
  {
   "cell_type": "code",
   "execution_count": null,
   "metadata": {},
   "outputs": [],
   "source": []
  }
 ],
 "metadata": {
  "kernelspec": {
   "display_name": "base",
   "language": "python",
   "name": "python3"
  },
  "language_info": {
   "codemirror_mode": {
    "name": "ipython",
    "version": 3
   },
   "file_extension": ".py",
   "mimetype": "text/x-python",
   "name": "python",
   "nbconvert_exporter": "python",
   "pygments_lexer": "ipython3",
   "version": "3.11.7"
  }
 },
 "nbformat": 4,
 "nbformat_minor": 2
}
