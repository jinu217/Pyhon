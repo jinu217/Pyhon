{
 "cells": [
  {
   "cell_type": "markdown",
   "metadata": {},
   "source": [
    "### range()\n",
    ": range(시작숫자, 끝숫자+1, 증가값)"
   ]
  },
  {
   "cell_type": "code",
   "execution_count": 3,
   "metadata": {},
   "outputs": [
    {
     "data": {
      "text/plain": [
       "[1, 2, 3, 4, 5, 6, 7, 8, 9, 10]"
      ]
     },
     "execution_count": 3,
     "metadata": {},
     "output_type": "execute_result"
    }
   ],
   "source": [
    "# 1 ~ 10 \n",
    "var = list(range(1, 11))\n",
    "var"
   ]
  },
  {
   "cell_type": "code",
   "execution_count": 4,
   "metadata": {},
   "outputs": [
    {
     "data": {
      "text/plain": [
       "[0, 2, 4, 6, 8, 10]"
      ]
     },
     "execution_count": 4,
     "metadata": {},
     "output_type": "execute_result"
    }
   ],
   "source": [
    "# 0, 2, 4, 6, 8, 10\n",
    "list(range(0, 11, 2))"
   ]
  },
  {
   "cell_type": "code",
   "execution_count": 5,
   "metadata": {},
   "outputs": [
    {
     "data": {
      "text/plain": [
       "[10, 8, 6, 4, 2]"
      ]
     },
     "execution_count": 5,
     "metadata": {},
     "output_type": "execute_result"
    }
   ],
   "source": [
    "# 10, 8, 6, 4, 2, \n",
    "list(range(10, 1, -2))"
   ]
  },
  {
   "cell_type": "code",
   "execution_count": 6,
   "metadata": {},
   "outputs": [
    {
     "data": {
      "text/plain": [
       "[]"
      ]
     },
     "execution_count": 6,
     "metadata": {},
     "output_type": "execute_result"
    }
   ],
   "source": [
    "list(range(0, 10, -2))"
   ]
  },
  {
   "cell_type": "markdown",
   "metadata": {},
   "source": [
    "### for문에 range함수"
   ]
  },
  {
   "cell_type": "code",
   "execution_count": 9,
   "metadata": {},
   "outputs": [
    {
     "name": "stdout",
     "output_type": "stream",
     "text": [
      "2\n",
      "4\n",
      "6\n",
      "8\n",
      "10\n"
     ]
    }
   ],
   "source": [
    "for i in range(1, 11):\n",
    "  if i % 2 == 0:\n",
    "    print(i)"
   ]
  },
  {
   "cell_type": "code",
   "execution_count": 13,
   "metadata": {},
   "outputs": [
    {
     "name": "stdout",
     "output_type": "stream",
     "text": [
      "1 : 1.0\n",
      "2 : 1.4142135623730951\n",
      "3 : 1.7320508075688772\n",
      "4 : 2.0\n",
      "5 : 2.23606797749979\n",
      "6 : 2.449489742783178\n",
      "7 : 2.6457513110645907\n",
      "8 : 2.8284271247461903\n",
      "9 : 3.0\n",
      "10 : 3.1622776601683795\n"
     ]
    }
   ],
   "source": [
    "# Ex: 1에서 10까지의 제곱근 출력하기\n",
    "\n",
    "import math\n",
    "\n",
    "for i in [1,2,3,4,5,6,7,8,9,10]:\n",
    "  print(f\"{i} : {math.sqrt(i)}\")"
   ]
  },
  {
   "cell_type": "code",
   "execution_count": 16,
   "metadata": {},
   "outputs": [
    {
     "name": "stdout",
     "output_type": "stream",
     "text": [
      "짝수의 합은 250500이고, 홀수의 합은250000입니다.\n"
     ]
    }
   ],
   "source": [
    "# Ex : 1부터 1000까지의 홀수의 합과 짝수의 합을 각각 구하기 \n",
    "\n",
    "sumEven = 0 # 짝수의 합계 \n",
    "sumOdd  = 0 # 홀수의 합계 \n",
    "\n",
    "for i in range(1, 1001):\n",
    "  if i % 2 == 0:\n",
    "    # 짝수의 합\n",
    "    sumEven += i\n",
    "  else:\n",
    "    # 홀수의 합\n",
    "    sumOdd += i\n",
    "\n",
    "\n",
    "print(f\"짝수의 합은 {sumEven}이고, 홀수의 합은{sumOdd}입니다.\")"
   ]
  },
  {
   "cell_type": "code",
   "execution_count": 23,
   "metadata": {},
   "outputs": [
    {
     "name": "stdout",
     "output_type": "stream",
     "text": [
      "3333 2000 666 4667\n"
     ]
    }
   ],
   "source": [
    "# Ex : 1부터 10000까지의 수중 3의배수의 갯수와 5의 배수의 갯수 3과 5의 배수의 갯수 구하기\n",
    "# 3의배수 이거나  5의 배수인 수의 갯수 구하기 \n",
    "count3 = count5 = count3and5 = count3or5 = 0\n",
    "\n",
    "for i in range(1, 10001):\n",
    "  if i % 3 == 0:\n",
    "    count3 += 1\n",
    "  if i % 5 == 0:\n",
    "    count5 += 1\n",
    "  if (i % 3 == 0) and (i % 5 == 0):\n",
    "    count3and5 += 1\n",
    "  if (i % 3 == 0) or (i % 5 == 0):\n",
    "    count3or5 += 1\n",
    "\n",
    "print(count3, count5, count3and5, count3or5)"
   ]
  },
  {
   "cell_type": "code",
   "execution_count": 24,
   "metadata": {},
   "outputs": [
    {
     "data": {
      "text/plain": [
       "True"
      ]
     },
     "execution_count": 24,
     "metadata": {},
     "output_type": "execute_result"
    }
   ],
   "source": [
    "(3333 + 2000 - 666) == 4667"
   ]
  },
  {
   "cell_type": "code",
   "execution_count": 29,
   "metadata": {},
   "outputs": [
    {
     "name": "stdout",
     "output_type": "stream",
     "text": [
      "7 X 1 = 7\n",
      "7 X 2 = 14\n",
      "7 X 3 = 21\n",
      "7 X 4 = 28\n",
      "7 X 5 = 35\n",
      "7 X 6 = 42\n",
      "7 X 7 = 49\n",
      "7 X 8 = 56\n",
      "7 X 9 = 63\n"
     ]
    }
   ],
   "source": [
    "# 구구단 9단 출력\n",
    "\n",
    "dan = 7\n",
    "\n",
    "for i in range(1, 10):\n",
    "  print(f\"{dan} X {i} = {dan*i}\")"
   ]
  },
  {
   "cell_type": "code",
   "execution_count": 33,
   "metadata": {},
   "outputs": [
    {
     "name": "stdout",
     "output_type": "stream",
     "text": [
      "7 X 2 = 14\n",
      "7 X 4 = 28\n",
      "7 X 6 = 42\n",
      "7 X 8 = 56\n"
     ]
    }
   ],
   "source": [
    "# Ex : 곱해지는 수가 짝수만 출력하기\n",
    "\n",
    "dan = 7\n",
    "\n",
    "for i in range(2, 10, 2):\n",
    "  print(f\"{dan} X {i} = {dan*i}\")"
   ]
  },
  {
   "cell_type": "code",
   "execution_count": 34,
   "metadata": {},
   "outputs": [
    {
     "name": "stdout",
     "output_type": "stream",
     "text": [
      "4 X 1 = 4\n",
      "4 X 2 = 8\n",
      "4 X 3 = 12\n",
      "4 X 4 = 16\n",
      "4 X 5 = 20\n",
      "4 X 6 = 24\n",
      "4 X 7 = 28\n",
      "4 X 8 = 32\n",
      "4 X 9 = 36\n"
     ]
    }
   ],
   "source": [
    "# 사용자에게 단을 입력받아 해당단의 구구단 출력하기\n",
    "# 단을 입력하세요 :\n",
    "\n",
    "dan = int(input(\"단을 입력하세요 :\"))\n",
    "\n",
    "for i in range(1, 10):\n",
    "  print(f\"{dan} X {i} = {dan*i}\")"
   ]
  },
  {
   "cell_type": "code",
   "execution_count": 40,
   "metadata": {},
   "outputs": [
    {
     "name": "stdout",
     "output_type": "stream",
     "text": [
      "----2단-----\n",
      "2 X 1 = 2\n",
      "2 X 2 = 4\n",
      "2 X 3 = 6\n",
      "2 X 4 = 8\n",
      "2 X 5 = 10\n",
      "2 X 6 = 12\n",
      "2 X 7 = 14\n",
      "2 X 8 = 16\n",
      "2 X 9 = 18\n",
      "----3단-----\n",
      "3 X 1 = 3\n",
      "3 X 2 = 6\n",
      "3 X 3 = 9\n",
      "3 X 4 = 12\n",
      "3 X 5 = 15\n",
      "3 X 6 = 18\n",
      "3 X 7 = 21\n",
      "3 X 8 = 24\n",
      "3 X 9 = 27\n",
      "----4단-----\n",
      "4 X 1 = 4\n",
      "4 X 2 = 8\n",
      "4 X 3 = 12\n",
      "4 X 4 = 16\n",
      "4 X 5 = 20\n",
      "4 X 6 = 24\n",
      "4 X 7 = 28\n",
      "4 X 8 = 32\n",
      "4 X 9 = 36\n",
      "----5단-----\n",
      "5 X 1 = 5\n",
      "5 X 2 = 10\n",
      "5 X 3 = 15\n",
      "5 X 4 = 20\n",
      "5 X 5 = 25\n",
      "5 X 6 = 30\n",
      "5 X 7 = 35\n",
      "5 X 8 = 40\n",
      "5 X 9 = 45\n",
      "----6단-----\n",
      "6 X 1 = 6\n",
      "6 X 2 = 12\n",
      "6 X 3 = 18\n",
      "6 X 4 = 24\n",
      "6 X 5 = 30\n",
      "6 X 6 = 36\n",
      "6 X 7 = 42\n",
      "6 X 8 = 48\n",
      "6 X 9 = 54\n",
      "----7단-----\n",
      "7 X 1 = 7\n",
      "7 X 2 = 14\n",
      "7 X 3 = 21\n",
      "7 X 4 = 28\n",
      "7 X 5 = 35\n",
      "7 X 6 = 42\n",
      "7 X 7 = 49\n",
      "7 X 8 = 56\n",
      "7 X 9 = 63\n",
      "----8단-----\n",
      "8 X 1 = 8\n",
      "8 X 2 = 16\n",
      "8 X 3 = 24\n",
      "8 X 4 = 32\n",
      "8 X 5 = 40\n",
      "8 X 6 = 48\n",
      "8 X 7 = 56\n",
      "8 X 8 = 64\n",
      "8 X 9 = 72\n",
      "----9단-----\n",
      "9 X 1 = 9\n",
      "9 X 2 = 18\n",
      "9 X 3 = 27\n",
      "9 X 4 = 36\n",
      "9 X 5 = 45\n",
      "9 X 6 = 54\n",
      "9 X 7 = 63\n",
      "9 X 8 = 72\n",
      "9 X 9 = 81\n"
     ]
    }
   ],
   "source": [
    "# 2~9단 출력하기\n",
    "\n",
    "for dan in range(2, 10):\n",
    "  print(f\"----{dan}단-----\")\n",
    "  for i in range(1, 10):\n",
    "    print(f\"{dan} X {i} = {dan*i}\")\n"
   ]
  },
  {
   "cell_type": "code",
   "execution_count": 45,
   "metadata": {},
   "outputs": [
    {
     "name": "stdout",
     "output_type": "stream",
     "text": [
      "2 4 6 8 10 12 14 16 18 \n",
      "3 6 9 12 15 18 21 24 27 \n",
      "4 8 12 16 20 24 28 32 36 \n",
      "5 10 15 20 25 30 35 40 45 \n",
      "6 12 18 24 30 36 42 48 54 \n",
      "7 14 21 28 35 42 49 56 63 \n",
      "8 16 24 32 40 48 56 64 72 \n",
      "9 18 27 36 45 54 63 72 81 \n"
     ]
    }
   ],
   "source": [
    "# Ex : 구구단 결과만 출력하기\n",
    "\n",
    "for dan in range(2, 10):\n",
    "  for i in range(1, 10):\n",
    "    print(dan * i, end=\" \")\n",
    "  print()"
   ]
  },
  {
   "cell_type": "code",
   "execution_count": 46,
   "metadata": {},
   "outputs": [
    {
     "name": "stdout",
     "output_type": "stream",
     "text": [
      "2 X 2 = 4\n",
      "2 X 4 = 8\n",
      "2 X 6 = 12\n",
      "2 X 8 = 16\n",
      "--------------------\n",
      "4 X 2 = 8\n",
      "4 X 4 = 16\n",
      "4 X 6 = 24\n",
      "4 X 8 = 32\n",
      "--------------------\n",
      "6 X 2 = 12\n",
      "6 X 4 = 24\n",
      "6 X 6 = 36\n",
      "6 X 8 = 48\n",
      "--------------------\n",
      "8 X 2 = 16\n",
      "8 X 4 = 32\n",
      "8 X 6 = 48\n",
      "8 X 8 = 64\n",
      "--------------------\n"
     ]
    }
   ],
   "source": [
    "# Ex: 구구단(2~9단)중 짝수단과 짝수곱해지는 수만 출력하기 \n",
    "\n",
    "for dan in range(2, 10, 2):\n",
    "  for i in range(2, 10, 2):\n",
    "    print(f\"{dan} X {i} = {dan*i}\")\n",
    "  print(\"-\" * 20)"
   ]
  },
  {
   "cell_type": "code",
   "execution_count": 52,
   "metadata": {},
   "outputs": [
    {
     "name": "stdout",
     "output_type": "stream",
     "text": [
      "81.33333333333333\n"
     ]
    }
   ],
   "source": [
    "# 평균 구하기 : Total / 갯수 \n",
    "\n",
    "scores = [78, 85, 95, 65, 77, 88]\n",
    "total = 0\n",
    "\n",
    "# 전체 점수 구하기\n",
    "for score in scores:\n",
    "  total += score\n",
    "\n",
    "# 평균 구하기\n",
    "print(total / len(scores))\n"
   ]
  },
  {
   "cell_type": "markdown",
   "metadata": {},
   "source": [
    "### for문에 Tuple 사용하기"
   ]
  },
  {
   "cell_type": "code",
   "execution_count": 55,
   "metadata": {},
   "outputs": [
    {
     "name": "stdout",
     "output_type": "stream",
     "text": [
      "1 : 2\n",
      "3 : 4\n",
      "5 : 6\n"
     ]
    }
   ],
   "source": [
    "# 리스트에 튜플을 함께 사용한 경우 \n",
    "var = [(1,2), (3,4), (5,6)]\n",
    "\n",
    "for first, last in var:\n",
    "  print(first, \":\", last)"
   ]
  },
  {
   "cell_type": "code",
   "execution_count": 56,
   "metadata": {},
   "outputs": [
    {
     "name": "stdout",
     "output_type": "stream",
     "text": [
      "3\n",
      "7\n",
      "11\n"
     ]
    }
   ],
   "source": [
    "for first, last in var:\n",
    "  print(first + last)"
   ]
  },
  {
   "cell_type": "code",
   "execution_count": 57,
   "metadata": {},
   "outputs": [
    {
     "name": "stdout",
     "output_type": "stream",
     "text": [
      "21\n"
     ]
    }
   ],
   "source": [
    "# Ex : var의 전체 합계 구하기\n",
    "\n",
    "sum = 0\n",
    "\n",
    "for first, last in var:\n",
    "  sum = sum + first + last\n",
    "\n",
    "print(sum)"
   ]
  },
  {
   "cell_type": "markdown",
   "metadata": {},
   "source": []
  },
  {
   "cell_type": "code",
   "execution_count": null,
   "metadata": {},
   "outputs": [],
   "source": [
    "# Ex : 시험점수가 60점을 넘으면 합격, 그렇지 않으면 불합격 이라고 보여주기\n",
    "\n",
    "scores = [90, 25, 67, 45, 80]"
   ]
  }
 ],
 "metadata": {
  "kernelspec": {
   "display_name": "base",
   "language": "python",
   "name": "python3"
  },
  "language_info": {
   "codemirror_mode": {
    "name": "ipython",
    "version": 3
   },
   "file_extension": ".py",
   "mimetype": "text/x-python",
   "name": "python",
   "nbconvert_exporter": "python",
   "pygments_lexer": "ipython3",
   "version": "3.11.7"
  }
 },
 "nbformat": 4,
 "nbformat_minor": 2
}
