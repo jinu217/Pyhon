{
 "cells": [
  {
   "cell_type": "markdown",
   "metadata": {},
   "source": [
    "### while문 \n",
    "while 조건 :    \n",
    "  문장1    \n",
    "  문장2"
   ]
  },
  {
   "cell_type": "code",
   "execution_count": 1,
   "metadata": {},
   "outputs": [
    {
     "name": "stdout",
     "output_type": "stream",
     "text": [
      "나무를 1번 찍었습니다.\n",
      "나무를 2번 찍었습니다.\n",
      "나무를 3번 찍었습니다.\n",
      "나무를 4번 찍었습니다.\n",
      "나무를 5번 찍었습니다.\n",
      "나무를 6번 찍었습니다.\n",
      "나무를 7번 찍었습니다.\n",
      "나무를 8번 찍었습니다.\n",
      "나무를 9번 찍었습니다.\n",
      "나무를 10번 찍었습니다.\n",
      "나무 넘어 갑니다.\n"
     ]
    }
   ],
   "source": [
    "# 10번찍어 안넘어가는 나무 없다.\n",
    "\n",
    "treeHit = 0\n",
    "\n",
    "while treeHit < 10:\n",
    "  treeHit += 1 # treeHit = treeHit + 1\n",
    "  print(f\"나무를 {treeHit}번 찍었습니다.\")\n",
    "  if treeHit == 10:\n",
    "    print(\"나무 넘어 갑니다.\")"
   ]
  },
  {
   "cell_type": "code",
   "execution_count": 2,
   "metadata": {},
   "outputs": [
    {
     "name": "stdout",
     "output_type": "stream",
     "text": [
      "0\n",
      "1\n",
      "2\n",
      "3\n",
      "4\n"
     ]
    }
   ],
   "source": [
    "# break : 반복 종료\n",
    "\n",
    "var = 0\n",
    "\n",
    "while var < 10:\n",
    "  print(var)\n",
    "  var += 1\n",
    "  if var == 5:\n",
    "    break"
   ]
  },
  {
   "cell_type": "code",
   "execution_count": 4,
   "metadata": {},
   "outputs": [
    {
     "name": "stdout",
     "output_type": "stream",
     "text": [
      "1\n",
      "2\n",
      "3\n",
      "4\n",
      "6\n",
      "7\n",
      "8\n",
      "9\n",
      "10\n"
     ]
    }
   ],
   "source": [
    "# continue\n",
    "\n",
    "var = 0\n",
    "\n",
    "while var < 10:\n",
    "  var += 1\n",
    "  if var == 5:\n",
    "    continue\n",
    "  print(var)"
   ]
  },
  {
   "cell_type": "code",
   "execution_count": 7,
   "metadata": {},
   "outputs": [
    {
     "name": "stdout",
     "output_type": "stream",
     "text": [
      "78\n",
      "85\n",
      "95\n",
      "65\n"
     ]
    }
   ],
   "source": [
    "# 점수가 80점 이상이면 우수, 나머지는 노력\n",
    "\n",
    "scores = [78, 85, 95, 65]\n",
    "\n",
    "var = 0\n",
    "\n",
    "while var < len(scores):\n",
    "  print(scores[var])\n",
    "  var += 1"
   ]
  },
  {
   "cell_type": "code",
   "execution_count": null,
   "metadata": {},
   "outputs": [],
   "source": [
    "!pip install numpy"
   ]
  },
  {
   "cell_type": "code",
   "execution_count": 12,
   "metadata": {},
   "outputs": [
    {
     "data": {
      "text/plain": [
       "80.75"
      ]
     },
     "execution_count": 12,
     "metadata": {},
     "output_type": "execute_result"
    }
   ],
   "source": [
    "# 평균 구하기 : 합계와 데이터 갯수 \n",
    "\n",
    "scores = [78, 85, 95, 65]\n",
    "\n",
    "import numpy as np\n",
    "np.mean(scores)"
   ]
  },
  {
   "cell_type": "code",
   "execution_count": null,
   "metadata": {},
   "outputs": [],
   "source": []
  }
 ],
 "metadata": {
  "kernelspec": {
   "display_name": "base",
   "language": "python",
   "name": "python3"
  },
  "language_info": {
   "codemirror_mode": {
    "name": "ipython",
    "version": 3
   },
   "file_extension": ".py",
   "mimetype": "text/x-python",
   "name": "python",
   "nbconvert_exporter": "python",
   "pygments_lexer": "ipython3",
   "version": "3.11.7"
  }
 },
 "nbformat": 4,
 "nbformat_minor": 2
}
