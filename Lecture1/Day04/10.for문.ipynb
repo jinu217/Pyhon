{
 "cells": [
  {
   "cell_type": "markdown",
   "metadata": {},
   "source": [
    "---\n",
    "총 5명의 학생이 시험을 보았는데 시험점수가 60점을 넘으면 합격이고    \n",
    "그렇지 않으면 불합격이다.    \n",
    "합격 , 불합격 결과 보여주기   "
   ]
  },
  {
   "cell_type": "code",
   "execution_count": 1,
   "metadata": {},
   "outputs": [],
   "source": [
    "scores = [90, 25, 67, 45, 80]"
   ]
  },
  {
   "cell_type": "code",
   "execution_count": 7,
   "metadata": {},
   "outputs": [
    {
     "name": "stdout",
     "output_type": "stream",
     "text": [
      "1번의 학생은 합격 입니다.\n",
      "2번의 학생은 불합격 입니다.\n",
      "3번의 학생은 합격 입니다.\n",
      "4번의 학생은 불합격 입니다.\n",
      "5번의 학생은 합격 입니다.\n"
     ]
    }
   ],
   "source": [
    "# Case 1 : index번호로 반복문 \n",
    "\n",
    "for number in range(len(scores)):\n",
    "  result = \"\" # 합격 불합격 결과\n",
    "  \n",
    "  if scores[number] < 60:\n",
    "    result = \"불합격\"\n",
    "  else:\n",
    "    result = \"합격\"\n",
    "  \n",
    "  print(f\"{number+1}번의 학생은 {result} 입니다.\")"
   ]
  },
  {
   "cell_type": "code",
   "execution_count": 10,
   "metadata": {},
   "outputs": [
    {
     "name": "stdout",
     "output_type": "stream",
     "text": [
      "1번의 학생은 합격 입니다.\n",
      "2번의 학생은 불합격 입니다.\n",
      "3번의 학생은 합격 입니다.\n",
      "4번의 학생은 불합격 입니다.\n",
      "5번의 학생은 합격 입니다.\n"
     ]
    }
   ],
   "source": [
    "# Case 2 : Data로 반복문 \n",
    "\n",
    "number = 0\n",
    "for score in scores:\n",
    "  result = \"\" # 합격 불합격 결과\n",
    "  \n",
    "  if score < 60:\n",
    "    result = \"불합격\"\n",
    "  else:\n",
    "    result = \"합격\"\n",
    "  \n",
    "  number +=1\n",
    "  print(f\"{number}번의 학생은 {result} 입니다.\")"
   ]
  },
  {
   "cell_type": "code",
   "execution_count": 11,
   "metadata": {},
   "outputs": [
    {
     "name": "stdout",
     "output_type": "stream",
     "text": [
      "1번의 학생은 점수가 90 이므로 합격 입니다.\n",
      "2번의 학생은 점수가 25 이어서 불합격 입니다.\n",
      "3번의 학생은 점수가 67 이므로 합격 입니다.\n",
      "4번의 학생은 점수가 45 이어서 불합격 입니다.\n",
      "5번의 학생은 점수가 80 이므로 합격 입니다.\n"
     ]
    }
   ],
   "source": [
    "# Case 2 : Data로 반복문 \n",
    "\n",
    "number = 0\n",
    "for score in scores:\n",
    "  result = \"\" # 합격 불합격 결과\n",
    "  \n",
    "  if score < 60:\n",
    "    result = \"불합격\"\n",
    "  else:\n",
    "    result = \"합격\"\n",
    "  \n",
    "  number +=1\n",
    "\n",
    "  if score < 60:\n",
    "    print(f\"{number}번의 학생은 점수가 {score} 이어서 {result} 입니다.\")\n",
    "  else:\n",
    "    print(f\"{number}번의 학생은 점수가 {score} 이므로 {result} 입니다.\")\n",
    "\n"
   ]
  },
  {
   "cell_type": "code",
   "execution_count": 21,
   "metadata": {},
   "outputs": [
    {
     "name": "stdout",
     "output_type": "stream",
     "text": [
      "1의 학생은 점수가 90 이므로 합격\n",
      "2의 학생은 점수가 25 이어서 불합격\n",
      "3의 학생은 점수가 67 이므로 합격\n",
      "4의 학생은 점수가 45 이어서 불합격\n",
      "5의 학생은 점수가 80 이므로 합격\n"
     ]
    }
   ],
   "source": [
    "# Case 2 : Data로 반복문 \n",
    "\n",
    "number = 1\n",
    "for score in scores:\n",
    "  print(f\"{number}의 학생은 점수가 {score} {'이므로' if score >= 60 else '이어서'} {'합격' if score >= 60 else '불합격'}\")  \n",
    "  number +=1\n"
   ]
  },
  {
   "cell_type": "markdown",
   "metadata": {},
   "source": [
    "---"
   ]
  },
  {
   "cell_type": "code",
   "execution_count": 17,
   "metadata": {},
   "outputs": [
    {
     "name": "stdout",
     "output_type": "stream",
     "text": [
      "홀수\n",
      "짝수\n",
      "홀수\n",
      "짝수\n",
      "홀수\n",
      "짝수\n",
      "홀수\n",
      "짝수\n",
      "홀수\n",
      "짝수\n"
     ]
    }
   ],
   "source": [
    "# 1 ~ 10의 수중 짝수 홀수 판단하기\n",
    "for i in range(1,11):\n",
    "  if i % 2 == 0:\n",
    "    print(\"짝수\")\n",
    "  else:\n",
    "    print(\"홀수\")"
   ]
  },
  {
   "cell_type": "code",
   "execution_count": 19,
   "metadata": {},
   "outputs": [
    {
     "name": "stdout",
     "output_type": "stream",
     "text": [
      "홀수\n",
      "짝수\n",
      "홀수\n",
      "짝수\n",
      "홀수\n",
      "짝수\n",
      "홀수\n",
      "짝수\n",
      "홀수\n",
      "짝수\n"
     ]
    }
   ],
   "source": [
    "# 1 ~ 10의 수중 짝수 홀수 판단하기 : 삼항연산자 사용하기\n",
    "for i in range(1,11):\n",
    "  print(f\"{'짝수' if i % 2 == 0 else '홀수'}\")"
   ]
  },
  {
   "cell_type": "markdown",
   "metadata": {},
   "source": [
    "---"
   ]
  },
  {
   "cell_type": "markdown",
   "metadata": {},
   "source": [
    "학생들 점수의 평균을 구하여 평균점수 보다 낮으면 불합격   \n",
    "평균점수보다 같거나 높으면 합격   "
   ]
  },
  {
   "cell_type": "code",
   "execution_count": 27,
   "metadata": {},
   "outputs": [
    {
     "name": "stdout",
     "output_type": "stream",
     "text": [
      "학급의 평균 점수는 61.4입니다.\n",
      "\n",
      "1의 학생은 점수가 90 이므로 합격\n",
      "2의 학생은 점수가 25 이어서 불합격\n",
      "3의 학생은 점수가 67 이므로 합격\n",
      "4의 학생은 점수가 45 이어서 불합격\n",
      "5의 학생은 점수가 80 이므로 합격\n"
     ]
    }
   ],
   "source": [
    "import numpy as np\n",
    "\n",
    "number = 1\n",
    "base = np.mean(scores)\n",
    "print(f\"학급의 평균 점수는 {base}입니다.\\n\")\n",
    "\n",
    "for score in scores:\n",
    "  print(f\"{number}의 학생은 점수가 {score} {'이므로' if score >= base else '이어서'} {'합격' if score >= base else '불합격'}\")  \n",
    "  number +=1"
   ]
  },
  {
   "cell_type": "markdown",
   "metadata": {},
   "source": [
    "총 5명의 학생이 시험을 보았는데 시험점수가 60점을 넘으면 합격이고   \n",
    "그렇지 않으면 불합격이다.  \n",
    "합격인 학생만 출력하기 "
   ]
  },
  {
   "cell_type": "code",
   "execution_count": 31,
   "metadata": {},
   "outputs": [
    {
     "name": "stdout",
     "output_type": "stream",
     "text": [
      "1의 학생은 합격 입니다.\n",
      "3의 학생은 합격 입니다.\n",
      "5의 학생은 합격 입니다.\n"
     ]
    }
   ],
   "source": [
    "number = 0\n",
    "\n",
    "for score in scores:\n",
    "  number += 1\n",
    "  if score < 60:\n",
    "    continue\n",
    "  print(f\"{number}의 학생은 합격 입니다.\")"
   ]
  },
  {
   "cell_type": "code",
   "execution_count": 35,
   "metadata": {},
   "outputs": [
    {
     "data": {
      "text/plain": [
       "12.5"
      ]
     },
     "execution_count": 35,
     "metadata": {},
     "output_type": "execute_result"
    }
   ],
   "source": [
    "# list01의 data를 5배 증가하여 새로운 List 만들기\n",
    "\n",
    "list01 = [1,2,3,4]\n",
    "new_list = []\n",
    "\n",
    "for i in list01:\n",
    "  new_list.append(i * 5)\n",
    "\n",
    "new_list\n",
    "np.mean(new_list)"
   ]
  },
  {
   "cell_type": "markdown",
   "metadata": {},
   "source": [
    "총 5명의 학생이 시험을 보았는데 시험점수가 60점을 넘으면 합격이고   \n",
    "그렇지 않으면 불합격이다.  \n",
    "합격인 학생들의 번호만 새로운 List로 생성하여 출력하기"
   ]
  },
  {
   "cell_type": "code",
   "execution_count": 37,
   "metadata": {},
   "outputs": [
    {
     "name": "stdout",
     "output_type": "stream",
     "text": [
      "1의 학생은 합격 입니다.\n",
      "3의 학생은 합격 입니다.\n",
      "5의 학생은 합격 입니다.\n"
     ]
    }
   ],
   "source": [
    "number = 0\n",
    "pass_list = []\n",
    "\n",
    "for score in scores:\n",
    "  number += 1\n",
    "  if score < 60:\n",
    "    continue\n",
    "  print(f\"{number}의 학생은 합격 입니다.\")\n",
    "  pass_list.append(number)"
   ]
  },
  {
   "cell_type": "code",
   "execution_count": 38,
   "metadata": {},
   "outputs": [
    {
     "data": {
      "text/plain": [
       "[1, 3, 5]"
      ]
     },
     "execution_count": 38,
     "metadata": {},
     "output_type": "execute_result"
    }
   ],
   "source": [
    "pass_list"
   ]
  },
  {
   "cell_type": "markdown",
   "metadata": {},
   "source": [
    "---\n",
    "### 문장과 단어 추출"
   ]
  },
  {
   "cell_type": "code",
   "execution_count": 39,
   "metadata": {},
   "outputs": [
    {
     "data": {
      "text/plain": [
       "'나는 홍길동 입니다.\\n주소는 서울시 입니다.\\n나이는 35세 입니다.'"
      ]
     },
     "execution_count": 39,
     "metadata": {},
     "output_type": "execute_result"
    }
   ],
   "source": [
    "string = \"\"\"나는 홍길동 입니다.\n",
    "주소는 서울시 입니다.\n",
    "나이는 35세 입니다.\"\"\"\n",
    "\n",
    "string"
   ]
  },
  {
   "cell_type": "code",
   "execution_count": 54,
   "metadata": {},
   "outputs": [],
   "source": [
    "sents = [] # 문장 저장\n",
    "words = [] # 단어 저장"
   ]
  },
  {
   "cell_type": "code",
   "execution_count": 44,
   "metadata": {},
   "outputs": [
    {
     "data": {
      "text/plain": [
       "['나는 홍길동 입니다.', '주소는 서울시 입니다.', '나이는 35세 입니다.']"
      ]
     },
     "execution_count": 44,
     "metadata": {},
     "output_type": "execute_result"
    }
   ],
   "source": [
    "# 연습 : 문단 -> 문장 \n",
    "a = string.split(sep=\"\\n\")\n",
    "a"
   ]
  },
  {
   "cell_type": "code",
   "execution_count": 48,
   "metadata": {},
   "outputs": [
    {
     "data": {
      "text/plain": [
       "['나이는', '35세', '입니다.']"
      ]
     },
     "execution_count": 48,
     "metadata": {},
     "output_type": "execute_result"
    }
   ],
   "source": [
    "# 연습 : 문장 -> 단어 \n",
    "a[2].split()"
   ]
  },
  {
   "cell_type": "markdown",
   "metadata": {},
   "source": [
    "---"
   ]
  },
  {
   "cell_type": "code",
   "execution_count": 55,
   "metadata": {},
   "outputs": [],
   "source": [
    "# 문단 -> 문장\n",
    "for sen in string.split(sep=\"\\n\"):\n",
    "  sents.append(sen)\n",
    "  # 문장 -> 단어\n",
    "  for word in sen.split():\n",
    "    words.append(word)"
   ]
  },
  {
   "cell_type": "code",
   "execution_count": 56,
   "metadata": {},
   "outputs": [
    {
     "data": {
      "text/plain": [
       "['나는 홍길동 입니다.', '주소는 서울시 입니다.', '나이는 35세 입니다.']"
      ]
     },
     "execution_count": 56,
     "metadata": {},
     "output_type": "execute_result"
    }
   ],
   "source": [
    "sents"
   ]
  },
  {
   "cell_type": "code",
   "execution_count": 57,
   "metadata": {},
   "outputs": [
    {
     "data": {
      "text/plain": [
       "['나는', '홍길동', '입니다.', '주소는', '서울시', '입니다.', '나이는', '35세', '입니다.']"
      ]
     },
     "execution_count": 57,
     "metadata": {},
     "output_type": "execute_result"
    }
   ],
   "source": [
    "words"
   ]
  },
  {
   "cell_type": "code",
   "execution_count": 59,
   "metadata": {},
   "outputs": [
    {
     "name": "stdout",
     "output_type": "stream",
     "text": [
      "문장 수: 3\n",
      "단어 수: 9\n"
     ]
    }
   ],
   "source": [
    "# 문장 수 \n",
    "print(\"문장 수:\", len(sents))\n",
    "# 단어수\n",
    "print(\"단어 수:\", len(words))"
   ]
  },
  {
   "cell_type": "markdown",
   "metadata": {},
   "source": [
    "---\n",
    "### for else\n",
    ": for반복문이 모두 실행되고 나면 else문이 실행된다.    \n",
    ": for문이 break문으로 중간에 종료되지 않고 끝까지 실행되면 else문이 실행된다.   "
   ]
  },
  {
   "cell_type": "code",
   "execution_count": 61,
   "metadata": {},
   "outputs": [
    {
     "name": "stdout",
     "output_type": "stream",
     "text": [
      "1\n",
      "2\n"
     ]
    }
   ],
   "source": [
    "for i in range(1, 6):\n",
    "  if i == 3:\n",
    "    break\n",
    "  print(i)\n",
    "else:\n",
    "  print(\"---\")"
   ]
  },
  {
   "cell_type": "code",
   "execution_count": 62,
   "metadata": {},
   "outputs": [
    {
     "name": "stdout",
     "output_type": "stream",
     "text": [
      "1\n",
      "2\n",
      "3\n",
      "4\n",
      "5\n",
      "10이 없습니다.\n"
     ]
    }
   ],
   "source": [
    "for i in range(1, 6):\n",
    "  if i == 10:\n",
    "    break\n",
    "  print(i)\n",
    "else:\n",
    "  print(\"10이 없습니다.\")"
   ]
  },
  {
   "cell_type": "code",
   "execution_count": 63,
   "metadata": {},
   "outputs": [],
   "source": [
    "fruits = ['apple', 'banana', 'cherry', 'orange']"
   ]
  },
  {
   "cell_type": "code",
   "execution_count": 65,
   "metadata": {},
   "outputs": [
    {
     "name": "stdout",
     "output_type": "stream",
     "text": [
      "orange1가 없습니다.\n"
     ]
    }
   ],
   "source": [
    "find_words = \"orange1\"\n",
    "\n",
    "for fruit in fruits:\n",
    "  if fruit == find_words:\n",
    "    print(f\"{find_words}를 찾았습니다.\")\n",
    "    break\n",
    "else:\n",
    "  print(f\"{find_words}가 없습니다.\")"
   ]
  },
  {
   "cell_type": "markdown",
   "metadata": {},
   "source": [
    "----\n",
    "### 파이썬의 내포(Comprehension)\n",
    "\n",
    "##### List"
   ]
  },
  {
   "cell_type": "code",
   "execution_count": 66,
   "metadata": {},
   "outputs": [
    {
     "data": {
      "text/plain": [
       "[5, 10, 15, 20]"
      ]
     },
     "execution_count": 66,
     "metadata": {},
     "output_type": "execute_result"
    }
   ],
   "source": [
    "# 5배 증가된 list 만들기\n",
    "list01 = [1,2,3,4]\n",
    "# list02 = [] # list01를 5를 곱하여 만들 list \n",
    "\n",
    "list02 = [i*5 for i in list01]\n",
    "list02\n"
   ]
  },
  {
   "cell_type": "code",
   "execution_count": 67,
   "metadata": {},
   "outputs": [
    {
     "data": {
      "text/plain": [
       "[10, 20]"
      ]
     },
     "execution_count": 67,
     "metadata": {},
     "output_type": "execute_result"
    }
   ],
   "source": [
    "# 위의 데이터에 데이터가 짝수인 경우에만 5를 곱하기\n",
    "list03 = [i*5 for i in list01 if i % 2 == 0]\n",
    "list03"
   ]
  },
  {
   "cell_type": "code",
   "execution_count": 68,
   "metadata": {},
   "outputs": [
    {
     "data": {
      "text/plain": [
       "[90, 25, 67, 45, 80]"
      ]
     },
     "execution_count": 68,
     "metadata": {},
     "output_type": "execute_result"
    }
   ],
   "source": [
    "scores"
   ]
  },
  {
   "cell_type": "code",
   "execution_count": 71,
   "metadata": {},
   "outputs": [
    {
     "name": "stdout",
     "output_type": "stream",
     "text": [
      "[90, 67, 80]\n"
     ]
    },
    {
     "data": {
      "text/plain": [
       "79.0"
      ]
     },
     "execution_count": 71,
     "metadata": {},
     "output_type": "execute_result"
    }
   ],
   "source": [
    "# 합격한 학생들의 점수만가지고 리스트 만들기\n",
    "\n",
    "number = 0\n",
    "pass_list = [i for i in scores if i >= 60]\n",
    "print(pass_list)\n",
    "\n",
    "np.mean(pass_list)"
   ]
  },
  {
   "cell_type": "code",
   "execution_count": 72,
   "metadata": {},
   "outputs": [
    {
     "name": "stdout",
     "output_type": "stream",
     "text": [
      "[2, 4, 6, 8, 10, 12, 14, 16, 18, 3, 6, 9, 12, 15, 18, 21, 24, 27, 4, 8, 12, 16, 20, 24, 28, 32, 36, 5, 10, 15, 20, 25, 30, 35, 40, 45, 6, 12, 18, 24, 30, 36, 42, 48, 54, 7, 14, 21, 28, 35, 42, 49, 56, 63, 8, 16, 24, 32, 40, 48, 56, 64, 72, 9, 18, 27, 36, 45, 54, 63, 72, 81]\n"
     ]
    }
   ],
   "source": [
    "# Ex : 구구단 결과만 리스트로 만들기 (2단 ~ 9단)\n",
    "result = [dan * i for dan in range(2, 10) for i in range(1, 10)]\n",
    "print(result)"
   ]
  },
  {
   "cell_type": "code",
   "execution_count": null,
   "metadata": {},
   "outputs": [],
   "source": []
  }
 ],
 "metadata": {
  "kernelspec": {
   "display_name": "base",
   "language": "python",
   "name": "python3"
  },
  "language_info": {
   "codemirror_mode": {
    "name": "ipython",
    "version": 3
   },
   "file_extension": ".py",
   "mimetype": "text/x-python",
   "name": "python",
   "nbconvert_exporter": "python",
   "pygments_lexer": "ipython3",
   "version": "3.11.7"
  }
 },
 "nbformat": 4,
 "nbformat_minor": 2
}
