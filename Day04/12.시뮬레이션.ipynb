{
 "cells": [
  {
   "cell_type": "markdown",
   "metadata": {},
   "source": [
    "### 시뮬레이션(몬테카를로 시뮬레이션)\n",
    ": 자료가 없을 경우 난수를 통해서 증명"
   ]
  },
  {
   "cell_type": "markdown",
   "metadata": {},
   "source": [
    "##### 동전의 앞면과 뒷면이 나올 확률이 같다는 것을 증명"
   ]
  },
  {
   "cell_type": "code",
   "execution_count": 1,
   "metadata": {},
   "outputs": [],
   "source": [
    "import random"
   ]
  },
  {
   "cell_type": "code",
   "execution_count": 7,
   "metadata": {},
   "outputs": [
    {
     "data": {
      "text/plain": [
       "1"
      ]
     },
     "execution_count": 7,
     "metadata": {},
     "output_type": "execute_result"
    }
   ],
   "source": [
    "random.randint(1, 10) # 1에서 10사이의 난수 발생 "
   ]
  },
  {
   "cell_type": "code",
   "execution_count": 25,
   "metadata": {},
   "outputs": [
    {
     "name": "stdout",
     "output_type": "stream",
     "text": [
      "뒷면\n"
     ]
    }
   ],
   "source": [
    "# 난수를 통한 방법 알아보기\n",
    "x = random.randint(1, 2)\n",
    "if x == 1:\n",
    "  result = '앞면'\n",
    "else:\n",
    "  result = '뒷면'\n",
    "\n",
    "print(result)"
   ]
  },
  {
   "cell_type": "code",
   "execution_count": 26,
   "metadata": {},
   "outputs": [],
   "source": [
    "def coinF(n):\n",
    "  coinFront = coinRear = 0\n",
    "  for i in range(1, n+1):\n",
    "    x = random.randint(1, 2)\n",
    "    if x == 1:\n",
    "      coinFront += 1\n",
    "    else:\n",
    "      coinRear += 1\n",
    "  print(f\"{n}번 시도시 앞면은 {coinFront}번이고 뒷면은 {coinRear}번 입니다.\")"
   ]
  },
  {
   "cell_type": "code",
   "execution_count": 27,
   "metadata": {},
   "outputs": [
    {
     "name": "stdout",
     "output_type": "stream",
     "text": [
      "10번 시도시 앞면은 7번이고 뒷면은 3번 입니다.\n",
      "100번 시도시 앞면은 53번이고 뒷면은 47번 입니다.\n",
      "1000번 시도시 앞면은 491번이고 뒷면은 509번 입니다.\n",
      "10000번 시도시 앞면은 5016번이고 뒷면은 4984번 입니다.\n",
      "100000번 시도시 앞면은 49848번이고 뒷면은 50152번 입니다.\n",
      "1000000번 시도시 앞면은 499336번이고 뒷면은 500664번 입니다.\n"
     ]
    }
   ],
   "source": [
    "coinF(10)\n",
    "coinF(100)\n",
    "coinF(1000)\n",
    "coinF(10000)\n",
    "coinF(100000)\n",
    "coinF(1000000)"
   ]
  },
  {
   "cell_type": "markdown",
   "metadata": {},
   "source": [
    "---\n",
    "가위, 바위, 보 게임이 이길 확률이 같다는 것을 증명"
   ]
  },
  {
   "cell_type": "code",
   "execution_count": null,
   "metadata": {},
   "outputs": [],
   "source": []
  },
  {
   "cell_type": "code",
   "execution_count": null,
   "metadata": {},
   "outputs": [],
   "source": [
    "rock(10)\n",
    "rock(100)\n",
    "rock(1000)\n",
    "rock(10000)\n",
    "rock(100000)\n",
    "rock(1000000)"
   ]
  }
 ],
 "metadata": {
  "kernelspec": {
   "display_name": "base",
   "language": "python",
   "name": "python3"
  },
  "language_info": {
   "codemirror_mode": {
    "name": "ipython",
    "version": 3
   },
   "file_extension": ".py",
   "mimetype": "text/x-python",
   "name": "python",
   "nbconvert_exporter": "python",
   "pygments_lexer": "ipython3",
   "version": "3.11.7"
  }
 },
 "nbformat": 4,
 "nbformat_minor": 2
}
