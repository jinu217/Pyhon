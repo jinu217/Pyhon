{
 "cells": [
  {
   "cell_type": "markdown",
   "metadata": {},
   "source": [
    "### if문"
   ]
  },
  {
   "cell_type": "code",
   "execution_count": 15,
   "metadata": {},
   "outputs": [],
   "source": [
    "num1 = 10000\n",
    "num2 = 100"
   ]
  },
  {
   "cell_type": "code",
   "execution_count": 10,
   "metadata": {},
   "outputs": [
    {
     "name": "stdout",
     "output_type": "stream",
     "text": [
      "--- end ---\n"
     ]
    }
   ],
   "source": [
    "# if문 1개\n",
    "\n",
    "if num1 == num2:\n",
    "  print(f\"{num1} == {num2}\")\n",
    "\n",
    "print(\"--- end ---\")"
   ]
  },
  {
   "cell_type": "code",
   "execution_count": 12,
   "metadata": {},
   "outputs": [
    {
     "name": "stdout",
     "output_type": "stream",
     "text": [
      "10 != 100\n",
      "--- end ---\n"
     ]
    }
   ],
   "source": [
    "# if ~ else 문 \n",
    "\n",
    "if num1 == num2:\n",
    "  print(f\"{num1} == {num2}\")\n",
    "else:\n",
    "  print(f\"{num1} != {num2}\")\n",
    "\n",
    "print(\"--- end ---\")"
   ]
  },
  {
   "cell_type": "code",
   "execution_count": 16,
   "metadata": {},
   "outputs": [
    {
     "name": "stdout",
     "output_type": "stream",
     "text": [
      "10000 > 100\n"
     ]
    }
   ],
   "source": [
    "# if ~ elif ~ else \n",
    "\n",
    "if num1 == num2:\n",
    "  print(f\"{num1} == {num2}\")\n",
    "  print(\"-------------\")\n",
    "elif num1 > num2:\n",
    "  print(f\"{num1} > {num2}\")\n",
    "elif num1 < num2:\n",
    "  print(f\"{num1} < {num2}\")\n",
    "else:\n",
    "  print(\"I don't know\")\n"
   ]
  },
  {
   "cell_type": "markdown",
   "metadata": {},
   "source": [
    "### 난수를 받아 비교 처리하기"
   ]
  },
  {
   "cell_type": "code",
   "execution_count": 17,
   "metadata": {},
   "outputs": [],
   "source": [
    "# 난수값이 50보다 큰 수인지 확인하기\n",
    "from random import randint"
   ]
  },
  {
   "cell_type": "code",
   "execution_count": 26,
   "metadata": {},
   "outputs": [
    {
     "data": {
      "text/plain": [
       "7"
      ]
     },
     "execution_count": 26,
     "metadata": {},
     "output_type": "execute_result"
    }
   ],
   "source": [
    "randint(1, 10)"
   ]
  },
  {
   "cell_type": "code",
   "execution_count": 47,
   "metadata": {},
   "outputs": [],
   "source": [
    "# if문만 사용 (50보다 크면 출력하고 아니면 아무것도 안함)\n",
    "\n",
    "x = randint(1, 100)\n",
    "# x\n",
    "\n",
    "if x > 50:\n",
    "  print(f\"{x} is greater than 50\")"
   ]
  },
  {
   "cell_type": "code",
   "execution_count": 57,
   "metadata": {},
   "outputs": [
    {
     "name": "stdout",
     "output_type": "stream",
     "text": [
      "3 is less or equal to 50\n"
     ]
    }
   ],
   "source": [
    "# if와 else 사용 \n",
    "# 50보다 크면 : 숫자 is greater than 50\n",
    "# 50보다 작거나 같으면 : 숫자 is less or equal to 50 \n",
    "\n",
    "x = randint(1, 100)\n",
    "\n",
    "if x > 50:\n",
    "  print(f\"{x} is greater than 50\")\n",
    "else:\n",
    "  print(f\"{x} is less or equal to 50\")"
   ]
  },
  {
   "cell_type": "code",
   "execution_count": 63,
   "metadata": {},
   "outputs": [
    {
     "name": "stdout",
     "output_type": "stream",
     "text": [
      "42 is less than 50\n"
     ]
    }
   ],
   "source": [
    "# if , elif, else사용 \n",
    "# 50보다 크면 : 숫자 is greater than 50\n",
    "# 50보다 작거나 : 숫자 is less than 50 \n",
    "# 50과 같은 경우 : 숫자 is equal to 50\n",
    "\n",
    "x = randint(1, 100)\n",
    "\n",
    "if x > 50:\n",
    "  print(f\"{x} is greater than 50\")\n",
    "elif x < 50:\n",
    "  print(f\"{x} is less than 50\")\n",
    "else:\n",
    "  print(f\"{x} is equal to 50\")\n",
    "\n"
   ]
  },
  {
   "cell_type": "code",
   "execution_count": 65,
   "metadata": {},
   "outputs": [
    {
     "name": "stdout",
     "output_type": "stream",
     "text": [
      "홀수 입니다.\n"
     ]
    }
   ],
   "source": [
    "# 어떤 수가 홀수 인지 짝수 인지 판별\n",
    "\n",
    "num1 = 9\n",
    "\n",
    "if num1 % 2 == 0:\n",
    "  print(\"짝수 입니다.\")\n",
    "else:\n",
    "  print(\"홀수 입니다.\")"
   ]
  },
  {
   "cell_type": "markdown",
   "metadata": {},
   "source": [
    "### 사용자로 부터 Data 입력"
   ]
  },
  {
   "cell_type": "code",
   "execution_count": 69,
   "metadata": {},
   "outputs": [
    {
     "name": "stdout",
     "output_type": "stream",
     "text": [
      "홀수 입니다.\n"
     ]
    }
   ],
   "source": [
    "num1 = int(input(\"숫자를 입력하세요\"))\n",
    "\n",
    "if num1 % 2 == 0:\n",
    "  print(\"짝수 입니다.\")\n",
    "else:\n",
    "  print(\"홀수 입니다.\")"
   ]
  },
  {
   "cell_type": "markdown",
   "metadata": {},
   "source": [
    "#### Ex\n",
    "사용자로 부터 시험 점수를 입력 받아   \n",
    "- 90점 이상이면 : A학점\n",
    "- 80점 이상이면 : B학점\n",
    "- 70점 이상이면 : C학점\n",
    "- 60점 이상이면 : D학점\n",
    "- 60점 미만이면 : F학점     \n",
    "출력 예제:)    \n",
    "시험 점수를 입력하세요 : 50\n",
    "\n",
    "시험점수는 50점이고 학점은 F학점 입니다. "
   ]
  },
  {
   "cell_type": "code",
   "execution_count": 72,
   "metadata": {},
   "outputs": [
    {
     "name": "stdout",
     "output_type": "stream",
     "text": [
      "시험점수는 78 이고 학점은 C학점 입니다.\n"
     ]
    }
   ],
   "source": [
    "# 1\n",
    "\n",
    "# 입력\n",
    "score = int(input(\"시험 점수를 입력하세요\"))\n",
    "# print(score)\n",
    "\n",
    "# 처리\n",
    "if score >= 90:\n",
    "  print(f\"시험점수는 {score} 이고 학점은 A학점 입니다.\")\n",
    "elif score >= 80:\n",
    "  print(f\"시험점수는 {score} 이고 학점은 B학점 입니다.\")\n",
    "elif score >= 70:\n",
    "  print(f\"시험점수는 {score} 이고 학점은 C학점 입니다.\")\n",
    "elif score >= 60:\n",
    "  print(f\"시험점수는 {score} 이고 학점은 D학점 입니다.\")\n",
    "else:\n",
    "  print(f\"시험점수는 {score} 이고 학점은 F학점 입니다.\")\n",
    "  \n",
    "# 출력\n",
    "\n"
   ]
  },
  {
   "cell_type": "markdown",
   "metadata": {},
   "source": [
    "### Source Review"
   ]
  },
  {
   "cell_type": "code",
   "execution_count": 76,
   "metadata": {},
   "outputs": [
    {
     "name": "stdout",
     "output_type": "stream",
     "text": [
      "시험점수는 200점 이고 학점은 A학점 입니다.\n"
     ]
    }
   ],
   "source": [
    "# 2\n",
    "\n",
    "# 입력\n",
    "score = int(input(\"시험 점수를 입력하세요\"))\n",
    "# print(score)\n",
    "# ------------------------------------------------------------\n",
    "\n",
    "# 처리\n",
    "grade = \"\" # 학점 \n",
    "if score >= 90: grade = \"A\"\n",
    "elif score >= 80: grade = \"B\"\n",
    "elif score >= 70: grade = \"C\"\n",
    "elif score >= 60: grade = \"D\"\n",
    "else: grade = \"F\"\n",
    "  \n",
    "# 출력\n",
    "print(f\"시험점수는 {score}점 이고 학점은 {grade}학점 입니다.\")"
   ]
  },
  {
   "cell_type": "code",
   "execution_count": 80,
   "metadata": {},
   "outputs": [
    {
     "name": "stdout",
     "output_type": "stream",
     "text": [
      "시험점수는 90점 이고 학점은 A학점 입니다.\n"
     ]
    }
   ],
   "source": [
    "# 3\n",
    "\n",
    "# 입력\n",
    "score = int(input(\"시험 점수를 입력하세요\"))\n",
    "# print(score)\n",
    "# ------------------------------------------------------------\n",
    "\n",
    "# 처리\n",
    "grade = \"\"                      # 학점 \n",
    "\n",
    "if score > 100 or score < 0:    # 입력값 체크\n",
    "  print(\"점수를 확인 하세요\")\n",
    "else:                           # 정상 점수인 경우 \n",
    "  if score >= 90: grade = \"A\"\n",
    "  elif score >= 80: grade = \"B\"\n",
    "  elif score >= 70: grade = \"C\"\n",
    "  elif score >= 60: grade = \"D\"\n",
    "  else: grade = \"F\"\n",
    "  # 출력\n",
    "  print(f\"시험점수는 {score}점 이고 학점은 {grade}학점 입니다.\")\n",
    "  "
   ]
  },
  {
   "cell_type": "markdown",
   "metadata": {},
   "source": [
    "----\n",
    "### match case\n",
    ": 3.10 부터 도입"
   ]
  },
  {
   "cell_type": "code",
   "execution_count": 81,
   "metadata": {},
   "outputs": [
    {
     "name": "stdout",
     "output_type": "stream",
     "text": [
      "12는 짝수 입니다.\n"
     ]
    }
   ],
   "source": [
    "# 홀수 짝수 구분\n",
    "x = int(input(\"숫자를 입력하세요\"))\n",
    "\n",
    "match x % 2:\n",
    "  case 0:\n",
    "    print(f\"{x}는 짝수 입니다.\")\n",
    "  case 1:\n",
    "    print(f\"{x}는 홀수 입니다.\")"
   ]
  },
  {
   "cell_type": "code",
   "execution_count": 82,
   "metadata": {},
   "outputs": [
    {
     "name": "stdout",
     "output_type": "stream",
     "text": [
      "12는 짝수 입니다.\n"
     ]
    }
   ],
   "source": [
    "x = int(input(\"숫자를 입력하세요\"))\n",
    "\n",
    "match x:\n",
    "  case x if x%2 == 0:\n",
    "    print(f\"{x}는 짝수 입니다.\")\n",
    "  case _:\n",
    "    print(f\"{x}는 홀수 입니다.\")"
   ]
  },
  {
   "cell_type": "code",
   "execution_count": 84,
   "metadata": {},
   "outputs": [
    {
     "name": "stdout",
     "output_type": "stream",
     "text": [
      "10의 배수\n"
     ]
    }
   ],
   "source": [
    "x = int(input(\"숫자를 입력하세요\"))\n",
    "\n",
    "match x:\n",
    "  case 0:\n",
    "    print(\"0\")\n",
    "  case 88 | 99:\n",
    "    print(\"88이거나 99\")\n",
    "  case x if x % 10 == 0:\n",
    "    print(\"10의 배수\")\n",
    "  case x if x > 0:\n",
    "    print(\"양수\")\n",
    "  case x if x < 0:\n",
    "    print(\"음수\")\n",
    "  case _:\n",
    "    print(\"~~~~~\")"
   ]
  },
  {
   "cell_type": "code",
   "execution_count": 92,
   "metadata": {},
   "outputs": [
    {
     "name": "stdout",
     "output_type": "stream",
     "text": [
      "점수는 89이고 B학점 입니다.\n"
     ]
    }
   ],
   "source": [
    "# 3\n",
    "\n",
    "# 입력\n",
    "score = int(input(\"시험 점수를 입력하세요\"))\n",
    "# print(score)\n",
    "# ------------------------------------------------------------\n",
    "\n",
    "# 처리\n",
    "grade = \"\"                      # 학점 \n",
    "\n",
    "match score:\n",
    "  case score if score > 100 or score < 0:\n",
    "    grade = \"*\"\n",
    "  case score if score >= 90:\n",
    "    grade = 'A'\n",
    "  case score if score >= 80:\n",
    "    grade = 'B'\n",
    "  case score if score >= 70:\n",
    "    grade = 'C'\n",
    "  case score if score >= 60:\n",
    "    grade = 'D'\n",
    "  case _ :\n",
    "    grade = 'F'\n",
    "\n",
    "# 출력\n",
    "if grade != \"*\":\n",
    "  print(f\"점수는 {score}이고 {grade}학점 입니다.\")\n",
    "else:\n",
    "  print(\"점수를 확인 하세요\")"
   ]
  },
  {
   "cell_type": "code",
   "execution_count": 95,
   "metadata": {},
   "outputs": [
    {
     "name": "stdout",
     "output_type": "stream",
     "text": [
      "9\n"
     ]
    }
   ],
   "source": [
    "# Ex\n",
    "# 사용자로 부터 숫자를 입력받아 5의 배수이면 해당 숫자의 제곱근을 출력하고 \n",
    "# 5의 배수가 아니면 입력 수를 출력하기\n",
    "import math\n",
    "\n",
    "num = int(input(\"숫자를 입력하세요\"))\n",
    "\n",
    "if num % 5 == 0:\n",
    "  print(math.sqrt(num))\n",
    "else:\n",
    "  print(num)"
   ]
  },
  {
   "cell_type": "code",
   "execution_count": 97,
   "metadata": {},
   "outputs": [
    {
     "name": "stdout",
     "output_type": "stream",
     "text": [
      "6\n"
     ]
    }
   ],
   "source": [
    "import math\n",
    "\n",
    "num = int(input(\"숫자를 입력하세요\"))\n",
    "\n",
    "match num % 5 == 0:\n",
    "  case True:\n",
    "    print(math.sqrt(num))\n",
    "  case False:\n",
    "    print(num)"
   ]
  },
  {
   "cell_type": "code",
   "execution_count": 99,
   "metadata": {},
   "outputs": [
    {
     "name": "stdout",
     "output_type": "stream",
     "text": [
      "12\n"
     ]
    }
   ],
   "source": [
    "import math\n",
    "\n",
    "num = int(input(\"숫자를 입력하세요\"))\n",
    "\n",
    "match num % 5:\n",
    "  case 0:\n",
    "    print(math.sqrt(num))\n",
    "  case _:\n",
    "    print(num)"
   ]
  },
  {
   "cell_type": "code",
   "execution_count": 102,
   "metadata": {},
   "outputs": [
    {
     "name": "stdout",
     "output_type": "stream",
     "text": [
      "신용카드를 이용한 택시 타기\n"
     ]
    }
   ],
   "source": [
    "# list의 내용을 if문으로 확인하기\n",
    "\n",
    "pocket = ['paper', 'smartphone']\n",
    "card = 1\n",
    "\n",
    "if 'money' in pocket:\n",
    "  print(\"현금으로 택시 타기\")\n",
    "elif card:\n",
    "  print(\"신용카드를 이용한 택시 타기\")\n",
    "else:\n",
    "  print(\"튼튼한 다리를 사용\")"
   ]
  },
  {
   "cell_type": "code",
   "execution_count": null,
   "metadata": {},
   "outputs": [],
   "source": []
  },
  {
   "cell_type": "code",
   "execution_count": 103,
   "metadata": {},
   "outputs": [
    {
     "name": "stdout",
     "output_type": "stream",
     "text": [
      "택시를 타자!\n"
     ]
    }
   ],
   "source": [
    "# and, or, not \n",
    "\n",
    "money = 2000\n",
    "card = True\n",
    "\n",
    "if money >= 3000 or card:\n",
    "  print(\"택시를 타자!\")\n",
    "else:\n",
    "  print(\"걸어가자!\")"
   ]
  },
  {
   "cell_type": "markdown",
   "metadata": {},
   "source": [
    "### 삼항 연산자\n",
    ": 변수 = 참인경우 if(조건문) else (거짓인 경우) "
   ]
  },
  {
   "cell_type": "code",
   "execution_count": 104,
   "metadata": {},
   "outputs": [
    {
     "name": "stdout",
     "output_type": "stream",
     "text": [
      "짝수\n"
     ]
    }
   ],
   "source": [
    "# 홀수 짝수 판별\n",
    "num = int(input(\"숫자를 입력하세요\"))\n",
    "\n",
    "result = \"짝수\" if num % 2 == 0 else \"홀수\"\n",
    "\n",
    "print(result)"
   ]
  },
  {
   "cell_type": "code",
   "execution_count": 105,
   "metadata": {},
   "outputs": [
    {
     "name": "stdout",
     "output_type": "stream",
     "text": [
      "40\n"
     ]
    }
   ],
   "source": [
    "# Ex : 사용자로 부터 숫자를 입력 받아 입력 받은 수가 5보다 크면 해당 수의 2배를 출력하고\n",
    "# 5보다 크지 않으면 해당 수의 2를 더해서 출력하기\n",
    "\n",
    "num = int(input(\"숫자를 입력하세요\"))\n",
    "\n",
    "result = num * 2 if num >=5 else num + 2\n",
    "\n",
    "print(result)"
   ]
  },
  {
   "cell_type": "code",
   "execution_count": 109,
   "metadata": {},
   "outputs": [
    {
     "name": "stdout",
     "output_type": "stream",
     "text": [
      "1\n",
      "7\n"
     ]
    }
   ],
   "source": [
    "# bit 연산자\n",
    "print(5 & 3)\n",
    "print(5 | 3)"
   ]
  },
  {
   "cell_type": "code",
   "execution_count": 107,
   "metadata": {},
   "outputs": [
    {
     "name": "stdout",
     "output_type": "stream",
     "text": [
      "3\n",
      "5\n"
     ]
    }
   ],
   "source": [
    "print(5 and 3)\n",
    "print(5 or 3)"
   ]
  },
  {
   "cell_type": "code",
   "execution_count": null,
   "metadata": {},
   "outputs": [],
   "source": []
  }
 ],
 "metadata": {
  "kernelspec": {
   "display_name": "base",
   "language": "python",
   "name": "python3"
  },
  "language_info": {
   "codemirror_mode": {
    "name": "ipython",
    "version": 3
   },
   "file_extension": ".py",
   "mimetype": "text/x-python",
   "name": "python",
   "nbconvert_exporter": "python",
   "pygments_lexer": "ipython3",
   "version": "3.11.7"
  }
 },
 "nbformat": 4,
 "nbformat_minor": 2
}
