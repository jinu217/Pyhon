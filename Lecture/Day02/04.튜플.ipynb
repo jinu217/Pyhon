{
 "cells": [
  {
   "cell_type": "markdown",
   "metadata": {},
   "source": [
    "### 튜플(Tuple) 자료형\n",
    ": 튜플은 다음과 같은 점을 제외하고 나면 리스트와 거의 동일하다.     \n",
    "- ( 와 )로 사용 \n",
    "- 리스트는 값을 생성, 삭제, 수정이 가능하지만 튜플은 변경 불가 이다. \n",
    "\n",
    "프로그램 작성시 생성된 데이터값을 변화 시키면서 사용하고자 하면 리스트를 사용.     \n",
    "한번 생성된 데이터 값이 변경되는 것을 막고자 하면 튜플을 사용.   \n",
    "프로그램 작성시 평균적으로 튜플보다 리스트를 많이 사용한다.    "
   ]
  },
  {
   "cell_type": "code",
   "execution_count": 5,
   "metadata": {},
   "outputs": [],
   "source": [
    "# Tuple의 선언\n",
    "\n",
    "var01 = ()\n",
    "var02 = (1,) # 요소가 하나여도 반드시 ,를 붙인다.  \n",
    "var03 = (1,2,3)\n",
    "var04 = 1,2,3 \n",
    "var05 = ('a', 'b', ('ab','cd'))"
   ]
  },
  {
   "cell_type": "code",
   "execution_count": 7,
   "metadata": {},
   "outputs": [
    {
     "name": "stdout",
     "output_type": "stream",
     "text": [
      "ab\n"
     ]
    }
   ],
   "source": [
    "print(var05[-1][0])"
   ]
  },
  {
   "cell_type": "markdown",
   "metadata": {},
   "source": [
    "### Tuple 값 변경\n",
    ": Tuple에 List를 추가하여 사용"
   ]
  },
  {
   "cell_type": "code",
   "execution_count": 9,
   "metadata": {},
   "outputs": [
    {
     "name": "stdout",
     "output_type": "stream",
     "text": [
      "([1, 2], 3, 4)\n",
      "([100, 2], 3, 4)\n"
     ]
    }
   ],
   "source": [
    "tuple01 = [1,2],3,4\n",
    "print(tuple01)\n",
    "tuple01[0][0] = 100\n",
    "print(tuple01)"
   ]
  },
  {
   "cell_type": "code",
   "execution_count": null,
   "metadata": {},
   "outputs": [],
   "source": []
  }
 ],
 "metadata": {
  "kernelspec": {
   "display_name": "base",
   "language": "python",
   "name": "python3"
  },
  "language_info": {
   "codemirror_mode": {
    "name": "ipython",
    "version": 3
   },
   "file_extension": ".py",
   "mimetype": "text/x-python",
   "name": "python",
   "nbconvert_exporter": "python",
   "pygments_lexer": "ipython3",
   "version": "3.11.7"
  }
 },
 "nbformat": 4,
 "nbformat_minor": 2
}
